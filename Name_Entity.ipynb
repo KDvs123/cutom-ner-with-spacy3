{
  "nbformat": 4,
  "nbformat_minor": 0,
  "metadata": {
    "colab": {
      "provenance": [],
      "authorship_tag": "ABX9TyPsxIL3CEfPmbiSAGl6AW4l",
      "include_colab_link": true
    },
    "kernelspec": {
      "name": "python3",
      "display_name": "Python 3"
    },
    "language_info": {
      "name": "python"
    }
  },
  "cells": [
    {
      "cell_type": "markdown",
      "metadata": {
        "id": "view-in-github",
        "colab_type": "text"
      },
      "source": [
        "<a href=\"https://colab.research.google.com/github/KDvs123/cutom-ner-with-spacy3/blob/main/Name_Entity.ipynb\" target=\"_parent\"><img src=\"https://colab.research.google.com/assets/colab-badge.svg\" alt=\"Open In Colab\"/></a>"
      ]
    },
    {
      "cell_type": "markdown",
      "source": [
        "Dependencies\n"
      ],
      "metadata": {
        "id": "VTGDsCmMAmOq"
      }
    },
    {
      "cell_type": "code",
      "source": [
        "! pip install -U spacy -q\n",
        ""
      ],
      "metadata": {
        "id": "9TJJTf5cAqg0"
      },
      "execution_count": 1,
      "outputs": []
    },
    {
      "cell_type": "markdown",
      "source": [
        "Data\n"
      ],
      "metadata": {
        "id": "ji-j1WYEAzxl"
      }
    },
    {
      "cell_type": "code",
      "source": [
        "!python -m spacy info"
      ],
      "metadata": {
        "colab": {
          "base_uri": "https://localhost:8080/"
        },
        "id": "tmdDgWdbA1FC",
        "outputId": "6b134aad-dab5-441b-db88-0c6e9c916d36"
      },
      "execution_count": 2,
      "outputs": [
        {
          "output_type": "stream",
          "name": "stdout",
          "text": [
            "\u001b[1m\n",
            "============================== Info about spaCy ==============================\u001b[0m\n",
            "\n",
            "spaCy version    3.7.5                         \n",
            "Location         /usr/local/lib/python3.10/dist-packages/spacy\n",
            "Platform         Linux-6.1.85+-x86_64-with-glibc2.35\n",
            "Python version   3.10.12                       \n",
            "Pipelines        en_core_web_sm (3.7.1)        \n",
            "\n"
          ]
        }
      ]
    },
    {
      "cell_type": "code",
      "source": [
        "#convert the json file into the docbin object\n",
        "\n",
        "import spacy\n",
        "from spacy.tokens import DocBin\n",
        "from tqdm import tqdm\n",
        "\n",
        "nlp = spacy.blank(\"en\") # load a new spacy model\n",
        "db = DocBin() # create a DocBin object"
      ],
      "metadata": {
        "id": "II1iUiCWBEAI"
      },
      "execution_count": 3,
      "outputs": []
    },
    {
      "cell_type": "code",
      "source": [
        "import json\n",
        "f=open('annotations.json')\n",
        "TRAIN_DATA = json.load(f)"
      ],
      "metadata": {
        "id": "Vx2SDiKIBdSw"
      },
      "execution_count": 4,
      "outputs": []
    },
    {
      "cell_type": "code",
      "source": [
        "TRAIN_DATA"
      ],
      "metadata": {
        "colab": {
          "base_uri": "https://localhost:8080/"
        },
        "id": "sJyuUGINB0MW",
        "outputId": "1344efd9-1857-4c68-a087-2aabc1e6c36c"
      },
      "execution_count": 5,
      "outputs": [
        {
          "output_type": "execute_result",
          "data": {
            "text/plain": [
              "{'classes': ['ASSIGNEE', 'DUE-DATE', 'CREATED-DATE', 'TYPE', 'LABEL'],\n",
              " 'annotations': [['Show tasks assigned to Alice',\n",
              "   {'entities': [[23, 28, 'ASSIGNEE']]}],\n",
              "  ['Find all tasks of type input', {'entities': [[23, 28, 'TYPE']]}],\n",
              "  ['Get tasks due on 2023-10-11', {'entities': [[17, 27, 'DUE-DATE']]}],\n",
              "  ['Retrieve tasks created on 2024-01-27',\n",
              "   {'entities': [[26, 36, 'CREATED-DATE']]}],\n",
              "  ['Filter tasks with the label Marketing', {'entities': [[28, 37, 'LABEL']]}],\n",
              "  ['Show tasks assigned to Eva and of type approval',\n",
              "   {'entities': [[23, 26, 'ASSIGNEE'], [39, 47, 'TYPE']]}],\n",
              "  ['Find tasks with the label Projects due before 2024-01-01',\n",
              "   {'entities': [[26, 34, 'LABEL'], [46, 56, 'DUE-DATE']]}],\n",
              "  ['Get tasks created after 2023-01-01 for Bob',\n",
              "   {'entities': [[24, 34, 'CREATED-DATE'], [39, 42, 'ASSIGNEE']]}],\n",
              "  ['Retrieve tasks of type input assigned to Charlie',\n",
              "   {'entities': [[23, 28, 'TYPE'], [41, 48, 'ASSIGNEE']]}],\n",
              "  ['Show all tasks with due dates in 2024',\n",
              "   {'entities': [[33, 37, 'DUE-DATE']]}],\n",
              "  ['Filter tasks labeled Development created in 2023',\n",
              "   {'entities': [[21, 32, 'LABEL'], [44, 48, 'CREATED-DATE']]}],\n",
              "  ['Find all approval tasks with due dates in December 2023',\n",
              "   {'entities': [[9, 17, 'TYPE'], [42, 55, 'DUE-DATE']]}],\n",
              "  ['Get all tasks created on 2023-02-08 with the label Marketing',\n",
              "   {'entities': [[25, 35, 'CREATED-DATE'], [51, 60, 'LABEL']]}],\n",
              "  ['Retrieve all tasks assigned to Frank due in the first half of 2024',\n",
              "   {'entities': [[31, 36, 'ASSIGNEE'], [48, 66, 'DUE-DATE']]}],\n",
              "  ['Show tasks labeled Projects and created after 2023-06-01',\n",
              "   {'entities': [[19, 27, 'LABEL'], [46, 56, 'CREATED-DATE']]}],\n",
              "  ['', {'entities': []}]]}"
            ]
          },
          "metadata": {},
          "execution_count": 5
        }
      ]
    },
    {
      "cell_type": "code",
      "source": [
        "for text , annot in tqdm(TRAIN_DATA['annotations']):\n",
        "    doc = nlp.make_doc(text)\n",
        "    ents = []\n",
        "    for start , end , label in annot['entities']:\n",
        "        span = doc.char_span(start,end,label=label,alignment_mode=\"contract\")\n",
        "        if span is None:\n",
        "            print(\"Skipping entity\")\n",
        "        else:\n",
        "            ents.append(span)\n",
        "    doc.ents =ents\n",
        "    db.add(doc)\n",
        "\n",
        "db.to_disk('./annotations.spacy') #save the docbin object"
      ],
      "metadata": {
        "colab": {
          "base_uri": "https://localhost:8080/"
        },
        "id": "pO9Blzq6CaGi",
        "outputId": "000a6cea-b957-48c8-c037-4c6cb5be3434"
      },
      "execution_count": 7,
      "outputs": [
        {
          "output_type": "stream",
          "name": "stderr",
          "text": [
            "100%|██████████| 16/16 [00:00<00:00, 2634.92it/s]\n"
          ]
        }
      ]
    },
    {
      "cell_type": "code",
      "source": [
        "!python -m spacy init config config.cfg --lang en --pipeline ner --optimize efficiency"
      ],
      "metadata": {
        "colab": {
          "base_uri": "https://localhost:8080/"
        },
        "id": "-YCGVbK1nhh6",
        "outputId": "d8e7b4b5-4fb6-4340-8d47-7ab34be3abb3"
      },
      "execution_count": 8,
      "outputs": [
        {
          "output_type": "stream",
          "name": "stdout",
          "text": [
            "\u001b[38;5;3m⚠ To generate a more effective transformer-based config (GPU-only),\n",
            "install the spacy-transformers package and re-run this command. The config\n",
            "generated now does not use transformers.\u001b[0m\n",
            "\u001b[38;5;4mℹ Generated config template specific for your use case\u001b[0m\n",
            "- Language: en\n",
            "- Pipeline: ner\n",
            "- Optimize for: efficiency\n",
            "- Hardware: CPU\n",
            "- Transformer: None\n",
            "\u001b[38;5;2m✔ Auto-filled config with all values\u001b[0m\n",
            "\u001b[38;5;2m✔ Saved config\u001b[0m\n",
            "config.cfg\n",
            "You can now add your data and train your pipeline:\n",
            "python -m spacy train config.cfg --paths.train ./train.spacy --paths.dev ./dev.spacy\n"
          ]
        }
      ]
    },
    {
      "cell_type": "code",
      "source": [
        "!python -m spacy train config.cfg --output ./ --paths.train ./annotations.spacy --paths.dev ./annotations.spacy"
      ],
      "metadata": {
        "colab": {
          "base_uri": "https://localhost:8080/"
        },
        "id": "o9dywPxlq9W8",
        "outputId": "12698b78-80a0-4db8-84df-3b48a00099be"
      },
      "execution_count": 9,
      "outputs": [
        {
          "output_type": "stream",
          "name": "stdout",
          "text": [
            "\u001b[38;5;4mℹ Saving to output directory: .\u001b[0m\n",
            "\u001b[38;5;4mℹ Using CPU\u001b[0m\n",
            "\u001b[1m\n",
            "=========================== Initializing pipeline ===========================\u001b[0m\n",
            "\u001b[38;5;2m✔ Initialized pipeline\u001b[0m\n",
            "\u001b[1m\n",
            "============================= Training pipeline =============================\u001b[0m\n",
            "\u001b[38;5;4mℹ Pipeline: ['tok2vec', 'ner']\u001b[0m\n",
            "\u001b[38;5;4mℹ Initial learn rate: 0.001\u001b[0m\n",
            "E    #       LOSS TOK2VEC  LOSS NER  ENTS_F  ENTS_P  ENTS_R  SCORE \n",
            "---  ------  ------------  --------  ------  ------  ------  ------\n",
            "  0       0          0.00     60.27    0.00    0.00    0.00    0.00\n",
            " 66     200         50.03   1691.82  100.00  100.00  100.00    1.00\n",
            "156     400          0.00      0.00  100.00  100.00  100.00    1.00\n",
            "256     600          0.00      0.00  100.00  100.00  100.00    1.00\n",
            "356     800          0.00      0.00  100.00  100.00  100.00    1.00\n",
            "532    1000          0.00      0.00  100.00  100.00  100.00    1.00\n",
            "732    1200          0.00      0.00  100.00  100.00  100.00    1.00\n",
            "932    1400          0.00      0.00  100.00  100.00  100.00    1.00\n",
            "1132    1600          0.00      0.00  100.00  100.00  100.00    1.00\n",
            "1332    1800          0.00      0.00  100.00  100.00  100.00    1.00\n",
            "\u001b[38;5;2m✔ Saved pipeline to output directory\u001b[0m\n",
            "model-last\n"
          ]
        }
      ]
    },
    {
      "cell_type": "code",
      "source": [
        "nlp_ner =spacy.load (\"/content/model-best\")"
      ],
      "metadata": {
        "id": "Oqzy4CystLdh"
      },
      "execution_count": 10,
      "outputs": []
    },
    {
      "cell_type": "code",
      "source": [
        "doc = nlp_ner ('Show the tasks that was assigned to Vihanga that was created in 2024 under Management label')"
      ],
      "metadata": {
        "id": "RcDO3irutXXY"
      },
      "execution_count": 20,
      "outputs": []
    },
    {
      "cell_type": "code",
      "source": [
        "spacy.displacy.render(doc,style=\"ent\",jupyter=True) #display in  jupyter"
      ],
      "metadata": {
        "colab": {
          "base_uri": "https://localhost:8080/",
          "height": 107
        },
        "id": "yCoQfLLxt6TW",
        "outputId": "69ec6fd3-dc95-4f2a-8463-80bddc82072e"
      },
      "execution_count": 21,
      "outputs": [
        {
          "output_type": "display_data",
          "data": {
            "text/plain": [
              "<IPython.core.display.HTML object>"
            ],
            "text/html": [
              "<span class=\"tex2jax_ignore\"><div class=\"entities\" style=\"line-height: 2.5; direction: ltr\">Show the tasks that was assigned to \n",
              "<mark class=\"entity\" style=\"background: #ddd; padding: 0.45em 0.6em; margin: 0 0.25em; line-height: 1; border-radius: 0.35em;\">\n",
              "    Vihanga\n",
              "    <span style=\"font-size: 0.8em; font-weight: bold; line-height: 1; border-radius: 0.35em; vertical-align: middle; margin-left: 0.5rem\">ASSIGNEE</span>\n",
              "</mark>\n",
              " that was created in \n",
              "<mark class=\"entity\" style=\"background: #ddd; padding: 0.45em 0.6em; margin: 0 0.25em; line-height: 1; border-radius: 0.35em;\">\n",
              "    2024\n",
              "    <span style=\"font-size: 0.8em; font-weight: bold; line-height: 1; border-radius: 0.35em; vertical-align: middle; margin-left: 0.5rem\">CREATED-DATE</span>\n",
              "</mark>\n",
              " under \n",
              "<mark class=\"entity\" style=\"background: #ddd; padding: 0.45em 0.6em; margin: 0 0.25em; line-height: 1; border-radius: 0.35em;\">\n",
              "    Management\n",
              "    <span style=\"font-size: 0.8em; font-weight: bold; line-height: 1; border-radius: 0.35em; vertical-align: middle; margin-left: 0.5rem\">LABEL</span>\n",
              "</mark>\n",
              " label</div></span>"
            ]
          },
          "metadata": {}
        }
      ]
    }
  ]
}